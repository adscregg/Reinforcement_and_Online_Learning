{
 "cells": [
  {
   "cell_type": "markdown",
   "id": "essential-research",
   "metadata": {},
   "source": [
    "# Setup"
   ]
  },
  {
   "cell_type": "markdown",
   "id": "moved-construction",
   "metadata": {
    "heading_collapsed": true
   },
   "source": [
    "### Imports"
   ]
  },
  {
   "cell_type": "code",
   "execution_count": 1,
   "id": "corrected-netscape",
   "metadata": {
    "ExecuteTime": {
     "end_time": "2021-07-23T15:37:13.840224Z",
     "start_time": "2021-07-23T15:37:07.321589Z"
    },
    "hidden": true,
    "init_cell": true
   },
   "outputs": [],
   "source": [
    "import gym\n",
    "import numpy as np\n",
    "import matplotlib.pyplot as plt\n",
    "import pandas as pd\n",
    "import seaborn as sns\n",
    "from tqdm.notebook import tqdm\n",
    "from sklearn.cluster import KMeans\n",
    "import time\n",
    "from sklearn.metrics import mean_squared_error as mse\n",
    "env_name = \"MountainCar-v0\"\n",
    "env = gym.make(env_name)\n",
    "obs = env.reset()\n",
    "# env.render()\n",
    "sns.set_style('whitegrid')"
   ]
  },
  {
   "cell_type": "markdown",
   "id": "limited-overall",
   "metadata": {
    "heading_collapsed": true
   },
   "source": [
    "### Initialisations"
   ]
  },
  {
   "cell_type": "code",
   "execution_count": 2,
   "id": "breeding-activation",
   "metadata": {
    "ExecuteTime": {
     "end_time": "2021-07-23T15:37:13.855187Z",
     "start_time": "2021-07-23T15:37:13.842250Z"
    },
    "hidden": true,
    "init_cell": true
   },
   "outputs": [],
   "source": [
    "n_states = 40\n",
    "episodes = 10\n",
    "initial_lr = 1.0\n",
    "min_lr = 0.005\n",
    "gamma = 0.99 # discount future rewards\n",
    "max_stps = 300\n",
    "epsilon = 0.05 # probability to explore the space and not take a greedy action\n",
    "env = env.unwrapped\n",
    "env.seed()\n",
    "np.random.seed(0)"
   ]
  },
  {
   "cell_type": "markdown",
   "id": "responsible-university",
   "metadata": {
    "heading_collapsed": true
   },
   "source": [
    "### Quantize the states"
   ]
  },
  {
   "cell_type": "code",
   "execution_count": 3,
   "id": "weird-state",
   "metadata": {
    "ExecuteTime": {
     "end_time": "2021-07-23T15:37:13.870497Z",
     "start_time": "2021-07-23T15:37:13.857182Z"
    },
    "hidden": true,
    "init_cell": true
   },
   "outputs": [],
   "source": [
    "def discretization(env, obs):\n",
    "    env_low = env.observation_space.low\n",
    "    env_high = env.observation_space.high\n",
    "    env_den = (env_high - env_low) / n_states\n",
    "    return ((obs - env_low) / env_den).astype(int)"
   ]
  },
  {
   "cell_type": "markdown",
   "id": "affiliated-interpretation",
   "metadata": {
    "heading_collapsed": true
   },
   "source": [
    "### Hill climb function using discretized Q table"
   ]
  },
  {
   "cell_type": "code",
   "execution_count": 4,
   "id": "greek-creation",
   "metadata": {
    "ExecuteTime": {
     "end_time": "2021-07-23T15:37:13.886156Z",
     "start_time": "2021-07-23T15:37:13.872140Z"
    },
    "hidden": true,
    "init_cell": true
   },
   "outputs": [],
   "source": [
    "def runHillClimb_Qtable(env, episodes, q_table, min_lr = 0.005, initial_lr = 1.0, gamma = 0.99, epsilon = 0.05):\n",
    "    ep_steps = list()\n",
    "    q_table = q_table.copy()\n",
    "    print_every = int(episodes * 0.1)\n",
    "    tq = tqdm(range(episodes))\n",
    "    failed = 0\n",
    "#     for episode in tqdm(range(episodes)):\n",
    "    for episode in tq:\n",
    "        tq.set_postfix(failed = failed)\n",
    "        obs = env.reset()\n",
    "        total_reward = 0\n",
    "        alpha = max(min_lr, initial_lr*(gamma**(episode//100)))\n",
    "        steps = 0\n",
    "        while True:\n",
    "            pos, vel = discretization(env, obs) # the position and velocity in our discretized space\n",
    "\n",
    "            if np.random.uniform(low=0, high=1) < epsilon: # with epsilon prob. choose random action\n",
    "                a = np.random.choice(env.action_space.n)\n",
    "            else: # 1 - epsilon prob of choosing greedy policy\n",
    "                a = np.argmax(q_table[pos][vel])\n",
    "\n",
    "            obs, reward, terminate,_ = env.step(a)\n",
    "            total_reward += abs(obs[0]+0.5)\n",
    "            pos_, vel_ = discretization(env, obs)\n",
    "            # Q function update\n",
    "            #\n",
    "            q_table[pos][vel][a] = (1-alpha)*q_table[pos][vel][a] + alpha*(reward+gamma*np.max(q_table[pos_][vel_]))\n",
    "            steps += 1\n",
    "\n",
    "            if terminate:\n",
    "                ep_steps.append(steps)\n",
    "                break\n",
    "                \n",
    "            if steps > 3000:\n",
    "                ep_steps.append(steps)\n",
    "                failed += 1\n",
    "                tq.set_postfix(failed = failed)\n",
    "                break\n",
    "    \n",
    "    return q_table, ep_steps"
   ]
  },
  {
   "cell_type": "markdown",
   "id": "strong-budget",
   "metadata": {
    "heading_collapsed": true
   },
   "source": [
    "### Create the Q matrix with state and action as rows and y the target values from q_table"
   ]
  },
  {
   "cell_type": "code",
   "execution_count": 5,
   "id": "tamil-cement",
   "metadata": {
    "ExecuteTime": {
     "end_time": "2021-07-23T15:37:13.902235Z",
     "start_time": "2021-07-23T15:37:13.888114Z"
    },
    "hidden": true,
    "init_cell": true
   },
   "outputs": [],
   "source": [
    "def createData(env, n_states = 40, discrete = True, one_hot = True):\n",
    "    env_low = env.observation_space.low\n",
    "    env_high = env.observation_space.high\n",
    "\n",
    "    ls = np.linspace(env_low, env_high, n_states).T\n",
    "    X = np.array(np.meshgrid(ls[0], ls[1], range(env.action_space.n))).T.reshape(-1,3).round(3)\n",
    "    \n",
    "    y = list()\n",
    "    for i in range(len(X)):\n",
    "        pos, vel = discretization(env, X[i,:2])\n",
    "        vals = q_table[pos][vel][int(X[i,2])]\n",
    "        if discrete:\n",
    "            X[i,:2] = np.array([pos, vel])\n",
    "        y.append(vals)\n",
    "\n",
    "    y = np.array(y).reshape(-1,1)\n",
    "    if one_hot:\n",
    "        X_df = pd.DataFrame(X)\n",
    "        one_hots = np.array(pd.get_dummies(X_df[2]))\n",
    "        X_oh = np.concatenate((X[:,:-1], one_hots), axis = 1)\n",
    "        X_oh\n",
    "    else:\n",
    "        return X, y\n",
    "    \n",
    "    return X_oh, y"
   ]
  },
  {
   "cell_type": "markdown",
   "id": "choice-darwin",
   "metadata": {
    "heading_collapsed": true
   },
   "source": [
    "### Function to run RBF regression on Q matrix"
   ]
  },
  {
   "cell_type": "code",
   "execution_count": 6,
   "id": "laughing-audio",
   "metadata": {
    "ExecuteTime": {
     "end_time": "2021-07-23T15:37:13.917580Z",
     "start_time": "2021-07-23T15:37:13.904071Z"
    },
    "hidden": true,
    "init_cell": true
   },
   "outputs": [],
   "source": [
    "def rbfValueFuncApprox(X, y = None, J = 1000, file = None):\n",
    "\n",
    "    kmeans = KMeans(n_clusters=J, random_state=0).fit(X)\n",
    "    N = len(X) # num of state pairs in discretized space\n",
    "    sig = np.std(X)\n",
    "    c = kmeans.cluster_centers_\n",
    "\n",
    "    \n",
    "    if y is not None:\n",
    "        # Construct design matrix\n",
    "        U = np.zeros((N,J))\n",
    "        for i in range(N):\n",
    "            U[i] = np.exp(-np.linalg.norm((X[i] - c)/sig, axis = 1))\n",
    "#             for j in range(J):\n",
    "#                 U[i][j] = np.exp(-np.linalg.norm(X[i] - kmeans.cluster_centers_[j])/sig) # Transform using RBF kernel\n",
    "\n",
    "        w = np.linalg.inv(U.T @ U) @ U.T @ y # pseudo inverse solution for optimal weights\n",
    "        yh = U @ w # prediction of value\n",
    "\n",
    "\n",
    "        # plot the true vs. prediction ----\n",
    "        fig = plt.figure()\n",
    "        plt.scatter(y, yh, label = 'Predicted value')\n",
    "        plt.plot([y.min(),y.max()], [y.min(),y.max()], c = 'r', label = 'Perfect prediction')\n",
    "        plt.xlabel('True value from discretized q-table')\n",
    "        plt.ylabel('RBF estimated value')\n",
    "        plt.title(f'J = {J}')\n",
    "        plt.legend()\n",
    "        \n",
    "        if file is not None:\n",
    "            fig.savefig(file)\n",
    "\n",
    "        return U, w, yh, kmeans, sig\n",
    "    \n",
    "    return kmeans, sig"
   ]
  },
  {
   "cell_type": "markdown",
   "id": "parallel-things",
   "metadata": {
    "heading_collapsed": true
   },
   "source": [
    "### Hill climb function using the RBF function approximation"
   ]
  },
  {
   "cell_type": "code",
   "execution_count": 7,
   "id": "assisted-lafayette",
   "metadata": {
    "ExecuteTime": {
     "end_time": "2021-07-23T15:37:13.933552Z",
     "start_time": "2021-07-23T15:37:13.919455Z"
    },
    "hidden": true,
    "init_cell": true
   },
   "outputs": [],
   "source": [
    "def runHillClimb_rbf(env, episodes, w, kmeans, sig, min_lr = 0.005, initial_lr = 1.0, gamma = 0.99, epsilon = 0.05, greedy = True, render = False):\n",
    "    J = len(w)\n",
    "    ep_steps = list()\n",
    "    for episode in tqdm(range(episodes)):\n",
    "        obs = env.reset()\n",
    "        total_reward = 0\n",
    "        alpha = max(min_lr, initial_lr*(gamma**(episode//100)))\n",
    "        steps = 0\n",
    "        while True:\n",
    "            if render:\n",
    "                env.render()\n",
    "            pos, vel = discretization(env, obs)\n",
    "\n",
    "            arr = np.array([[pos, vel, 1, 0, 0],\n",
    "                           [pos, vel, 0, 1, 0],\n",
    "                           [pos, vel, 0, 0, 1]])\n",
    "            \n",
    "            U_ep = createU(arr, kmeans, sig)\n",
    "\n",
    "#             U_ep = np.zeros((3, J))\n",
    "#             for i in range(3):\n",
    "#                 for j in range(J):\n",
    "#                     U_ep[i][j] = np.exp(-np.linalg.norm(arr[i] - kmeans.cluster_centers_[j])/sig)\n",
    "\n",
    "\n",
    "\n",
    "            y_est = U_ep @ w\n",
    "            if greedy:\n",
    "                a = np.argmax(y_est)\n",
    "            else:\n",
    "                if np.random.uniform(low=0, high=1) < epsilon: # with epsilon prob. choose random action\n",
    "                    a = np.random.choice(env.action_space.n)\n",
    "                else:\n",
    "                    a = np.argmax(y_est)\n",
    "                \n",
    "\n",
    "\n",
    "\n",
    "            obs, reward, terminate,_ = env.step(a)\n",
    "            total_reward += abs(obs[0]+0.5)\n",
    "            steps += 1\n",
    "            \n",
    "\n",
    "            if terminate or steps >= 3000:\n",
    "#                 print(f'Converged in {steps} steps')\n",
    "                ep_steps.append(steps)\n",
    "                break\n",
    "    return ep_steps"
   ]
  },
  {
   "cell_type": "markdown",
   "id": "future-tournament",
   "metadata": {
    "heading_collapsed": true
   },
   "source": [
    "### Helper functions"
   ]
  },
  {
   "cell_type": "code",
   "execution_count": 15,
   "id": "fifty-awareness",
   "metadata": {
    "ExecuteTime": {
     "end_time": "2021-05-17T13:35:15.064886Z",
     "start_time": "2021-05-17T13:35:15.050925Z"
    },
    "hidden": true
   },
   "outputs": [],
   "source": [
    "def createU(arr, kmeans, sig):\n",
    "    c = kmeans.cluster_centers_\n",
    "    J = kmeans.n_clusters\n",
    "    N = arr.shape[0]\n",
    "    U = np.zeros((N, J))\n",
    "    for i in range(N):\n",
    "        U[i] = np.exp(-np.linalg.norm((arr[i] - c), axis = 1)/sig)\n",
    "#         for j in range(J):\n",
    "#             U[i][j] = np.exp(-np.linalg.norm(arr[i] - kmeans.cluster_centers_[j])/sig)\n",
    "            \n",
    "    return U\n",
    "\n",
    "def chooseAction(vals, env, epsilon, greedy = False):\n",
    "    if greedy:\n",
    "        a = np.argmax(vals)\n",
    "        return a\n",
    "    \n",
    "    else:\n",
    "        if np.random.uniform(low=0, high=1) < epsilon: # with epsilon prob. choose random action\n",
    "            a = np.random.choice(env.action_space.n)\n",
    "        else:\n",
    "            a = np.argmax(vals)\n",
    "        return a\n",
    "    \n",
    "def moving_average(x, w):\n",
    "    return np.convolve(x, np.ones(w), 'valid') / w"
   ]
  },
  {
   "cell_type": "markdown",
   "id": "immune-facility",
   "metadata": {
    "heading_collapsed": true
   },
   "source": [
    "### SARSA + Q-Learning"
   ]
  },
  {
   "cell_type": "code",
   "execution_count": 16,
   "id": "standard-afternoon",
   "metadata": {
    "ExecuteTime": {
     "end_time": "2021-05-17T13:35:15.080843Z",
     "start_time": "2021-05-17T13:35:15.065883Z"
    },
    "hidden": true
   },
   "outputs": [],
   "source": [
    "def runHillClimb_rbf_SARSA_Q(env, episodes, kmeans, sig, min_lr = 0.005, initial_lr = 0.1, gamma = 0.99, epsilon = 0.05, greedy = False, render = False, Q_learning = False):\n",
    "    J = kmeans.n_clusters\n",
    "    c = kmeans.cluster_centers_\n",
    "    w = np.zeros(J)\n",
    "    ep_steps = list()\n",
    "    max_pos, max_vel = env.high\n",
    "    min_pos, min_vel = env.low\n",
    "    failed = 0\n",
    "    tq = tqdm(range(episodes))\n",
    "    tq.set_postfix(failed = failed)\n",
    "\n",
    "    \n",
    "#     for episode in tqdm(range(episodes)):\n",
    "    for episode in tq:\n",
    "        if episode % 500 == 0:\n",
    "            tq.set_postfix(failed = failed, w_norm = f'{np.linalg.norm(w)} at episode {episode}')\n",
    "        obs = env.reset()\n",
    "        pos1, vel1 = obs\n",
    "        total_reward = 0\n",
    "        alpha = max(min_lr, initial_lr*(gamma**(episode//100)))\n",
    "#         if episode % 100 == 0:\n",
    "#             print(f'alpha = {alpha}')\n",
    "\n",
    "        steps = 0\n",
    "        a = np.random.choice(env.action_space.n)\n",
    "        \n",
    "        while True:\n",
    "            if render:\n",
    "                env.render()\n",
    "                \n",
    "            \n",
    "                \n",
    "            arr1 = np.array([[pos1, vel1, 1, 0, 0],\n",
    "                           [pos1, vel1, 0, 1, 0],\n",
    "                           [pos1, vel1, 0, 0, 1]])\n",
    "            \n",
    "                    \n",
    "            U_ep = createU(arr1, kmeans, sig)\n",
    "            \n",
    "                    \n",
    "            q_hat = np.dot(U_ep[a], w)\n",
    "            q_hat_grad = U_ep[a]\n",
    "            \n",
    "\n",
    "            \n",
    "            obs, reward, terminate,_ = env.step(a)\n",
    "            pos2, vel2 = obs\n",
    "\n",
    "\n",
    "            if terminate:\n",
    "                w += alpha*(reward - q_hat) * q_hat_grad\n",
    "                ep_steps.append(steps + 1)\n",
    "                break\n",
    "                                \n",
    "            \n",
    "            arr2 = np.array([[pos2, vel2, 1, 0, 0],\n",
    "                           [pos2, vel2, 0, 1, 0],\n",
    "                           [pos2, vel2, 0, 0, 1]])\n",
    "            \n",
    "            \n",
    "            U_ep = createU(arr2, kmeans, sig)\n",
    "            \n",
    "            \n",
    "            vals = np.dot(U_ep, w)\n",
    "            \n",
    "            \n",
    "            a_prime = chooseAction(vals, env, epsilon, greedy)\n",
    "            \n",
    "                    \n",
    "            \n",
    "#             arr2 = np.array([[pos2, vel2, 1, 0, 0],\n",
    "#                            [pos2, vel2, 0, 1, 0],\n",
    "#                            [pos2, vel2, 0, 0, 1]])\n",
    "            \n",
    "                    \n",
    "#             U_ep = createU(arr2, kmeans, sig)\n",
    "            \n",
    "            if Q_learning:\n",
    "                q_hat_prime = vals.max()\n",
    "            else:\n",
    "                q_hat_prime = np.dot(U_ep[a_prime], w)\n",
    "\n",
    "            w += alpha*(reward + gamma*q_hat_prime - q_hat)*q_hat_grad\n",
    "            \n",
    "            \n",
    "            a = a_prime\n",
    "            pos1, vel1 = pos2, vel2\n",
    "            \n",
    "\n",
    "            total_reward += abs(obs[0]+0.5)\n",
    "            steps += 1            \n",
    "\n",
    "            if terminate or steps > 3000:\n",
    "                failed += 1\n",
    "                tq.set_postfix(failed = failed, w_norm = f'{np.linalg.norm(w)} ({episode})')\n",
    "#                 print('Did not converge: ', np.linalg.norm(w))\n",
    "                ep_steps.append(steps)\n",
    "                break\n",
    "                \n",
    "    return w, ep_steps"
   ]
  },
  {
   "cell_type": "markdown",
   "id": "reverse-humanity",
   "metadata": {
    "heading_collapsed": true
   },
   "source": [
    "# Execution"
   ]
  },
  {
   "cell_type": "markdown",
   "id": "outer-uruguay",
   "metadata": {
    "hidden": true
   },
   "source": [
    "## Using RBF to approximate precalculated Q-table"
   ]
  },
  {
   "cell_type": "markdown",
   "id": "realistic-dealing",
   "metadata": {
    "hidden": true
   },
   "source": [
    "### Calculate Q-table"
   ]
  },
  {
   "cell_type": "code",
   "execution_count": 17,
   "id": "decimal-member",
   "metadata": {
    "ExecuteTime": {
     "end_time": "2021-05-17T13:35:15.096800Z",
     "start_time": "2021-05-17T13:35:15.082864Z"
    },
    "hidden": true
   },
   "outputs": [],
   "source": [
    "q_table = np.zeros((n_states, n_states, env.action_space.n)) # initialise the q_table with 0's, represents no knowledge\n",
    "total_steps = 0"
   ]
  },
  {
   "cell_type": "code",
   "execution_count": 18,
   "id": "favorite-organization",
   "metadata": {
    "ExecuteTime": {
     "end_time": "2021-05-17T13:37:08.741313Z",
     "start_time": "2021-05-17T13:35:15.097798Z"
    },
    "hidden": true
   },
   "outputs": [
    {
     "data": {
      "application/vnd.jupyter.widget-view+json": {
       "model_id": "a2d786f3f16d4faf9b98bf27e23e4333",
       "version_major": 2,
       "version_minor": 0
      },
      "text/plain": [
       "  0%|          | 0/5000 [00:00<?, ?it/s]"
      ]
     },
     "metadata": {},
     "output_type": "display_data"
    }
   ],
   "source": [
    "q_table, ep_steps_tabular = runHillClimb_Qtable(env, 5000, q_table)"
   ]
  },
  {
   "cell_type": "markdown",
   "id": "eastern-mortgage",
   "metadata": {
    "heading_collapsed": true,
    "hidden": true
   },
   "source": [
    "### Q-matrix of states (X), values of the states and the action (y)"
   ]
  },
  {
   "cell_type": "code",
   "execution_count": 19,
   "id": "twelve-bridal",
   "metadata": {
    "ExecuteTime": {
     "end_time": "2021-05-17T13:37:08.805333Z",
     "start_time": "2021-05-17T13:37:08.743308Z"
    },
    "hidden": true
   },
   "outputs": [],
   "source": [
    "X, y = createData(env)"
   ]
  },
  {
   "cell_type": "markdown",
   "id": "judicial-rebound",
   "metadata": {
    "heading_collapsed": true,
    "hidden": true
   },
   "source": [
    "### Running RBF on X"
   ]
  },
  {
   "cell_type": "code",
   "execution_count": 20,
   "id": "likely-rating",
   "metadata": {
    "ExecuteTime": {
     "end_time": "2021-05-17T13:37:09.589221Z",
     "start_time": "2021-05-17T13:37:08.807279Z"
    },
    "hidden": true
   },
   "outputs": [
    {
     "data": {
      "image/png": "[encoded data removed]",
      "text/plain": [
       "<Figure size 432x288 with 1 Axes>"
      ]
     },
     "metadata": {},
     "output_type": "display_data"
    }
   ],
   "source": [
    "U_10, w_10, yh_10, kmeans_10, sig = rbfValueFuncApprox(X, y, J = 10)"
   ]
  },
  {
   "cell_type": "code",
   "execution_count": 21,
   "id": "fancy-familiar",
   "metadata": {
    "ExecuteTime": {
     "end_time": "2021-05-17T13:37:11.545919Z",
     "start_time": "2021-05-17T13:37:09.591219Z"
    },
    "hidden": true
   },
   "outputs": [
    {
     "data": {
      "image/png": "[encoded data removed]",
      "text/plain": [
       "<Figure size 432x288 with 1 Axes>"
      ]
     },
     "metadata": {},
     "output_type": "display_data"
    }
   ],
   "source": [
    "U_100, w_100, yh_100, kmeans_100, sig = rbfValueFuncApprox(X, y, J = 100)"
   ]
  },
  {
   "cell_type": "code",
   "execution_count": 22,
   "id": "technical-virginia",
   "metadata": {
    "ExecuteTime": {
     "end_time": "2021-05-17T13:37:19.178711Z",
     "start_time": "2021-05-17T13:37:11.547913Z"
    },
    "hidden": true
   },
   "outputs": [
    {
     "data": {
      "image/png": "[encoded data removed]",
      "text/plain": [
       "<Figure size 432x288 with 1 Axes>"
      ]
     },
     "metadata": {},
     "output_type": "display_data"
    }
   ],
   "source": [
    "U_500, w_500, yh_500, kmeans_500, sig = rbfValueFuncApprox(X, y, J = 500)"
   ]
  },
  {
   "cell_type": "code",
   "execution_count": 23,
   "id": "positive-printer",
   "metadata": {
    "ExecuteTime": {
     "end_time": "2021-05-17T13:37:30.530817Z",
     "start_time": "2021-05-17T13:37:19.179713Z"
    },
    "hidden": true
   },
   "outputs": [
    {
     "data": {
      "image/png": "[encoded data removed]",
      "text/plain": [
       "<Figure size 432x288 with 1 Axes>"
      ]
     },
     "metadata": {},
     "output_type": "display_data"
    }
   ],
   "source": [
    "U_1000, w_1000, yh_1000, kmeans_1000, sig = rbfValueFuncApprox(X, y, J = 1000)"
   ]
  },
  {
   "cell_type": "markdown",
   "id": "coral-application",
   "metadata": {
    "hidden": true
   },
   "source": [
    "### Running the environment"
   ]
  },
  {
   "cell_type": "code",
   "execution_count": 24,
   "id": "alternative-virus",
   "metadata": {
    "ExecuteTime": {
     "end_time": "2021-05-17T13:39:39.684893Z",
     "start_time": "2021-05-17T13:37:30.531815Z"
    },
    "hidden": true
   },
   "outputs": [
    {
     "data": {
      "application/vnd.jupyter.widget-view+json": {
       "model_id": "d4df241601eb4908a40d7430e3038771",
       "version_major": 2,
       "version_minor": 0
      },
      "text/plain": [
       "  0%|          | 0/5000 [00:00<?, ?it/s]"
      ]
     },
     "metadata": {},
     "output_type": "display_data"
    }
   ],
   "source": [
    "ren = False\n",
    "ep_steps = runHillClimb_rbf(env, 5000, w_500, kmeans_500, sig, greedy = False, render = ren)\n",
    "if ren:\n",
    "    time.sleep(1)\n",
    "    env.close()"
   ]
  },
  {
   "cell_type": "markdown",
   "id": "unlikely-actress",
   "metadata": {
    "ExecuteTime": {
     "end_time": "2021-04-27T09:44:45.578234Z",
     "start_time": "2021-04-27T09:44:45.563308Z"
    },
    "hidden": true
   },
   "source": [
    "## Updating the weights of RBF online using SARSA and Q-learning"
   ]
  },
  {
   "cell_type": "code",
   "execution_count": 8,
   "id": "suitable-enemy",
   "metadata": {
    "ExecuteTime": {
     "end_time": "2021-05-20T20:42:53.613338Z",
     "start_time": "2021-05-20T20:42:53.115669Z"
    },
    "hidden": true
   },
   "outputs": [
    {
     "ename": "NameError",
     "evalue": "name 'q_table' is not defined",
     "output_type": "error",
     "traceback": [
      "\u001b[1;31m---------------------------------------------------------------------------\u001b[0m",
      "\u001b[1;31mNameError\u001b[0m                                 Traceback (most recent call last)",
      "\u001b[1;32m<ipython-input-8-988de0afeb42>\u001b[0m in \u001b[0;36m<module>\u001b[1;34m\u001b[0m\n\u001b[1;32m----> 1\u001b[1;33m \u001b[0mX_cont\u001b[0m\u001b[1;33m,\u001b[0m \u001b[0m_\u001b[0m \u001b[1;33m=\u001b[0m \u001b[0mcreateData\u001b[0m\u001b[1;33m(\u001b[0m\u001b[0menv\u001b[0m\u001b[1;33m,\u001b[0m \u001b[0mdiscrete\u001b[0m\u001b[1;33m=\u001b[0m\u001b[1;32mFalse\u001b[0m\u001b[1;33m,\u001b[0m \u001b[0mone_hot\u001b[0m\u001b[1;33m=\u001b[0m\u001b[1;32mTrue\u001b[0m\u001b[1;33m)\u001b[0m\u001b[1;33m\u001b[0m\u001b[1;33m\u001b[0m\u001b[0m\n\u001b[0m",
      "\u001b[1;32m<ipython-input-5-8411451b5833>\u001b[0m in \u001b[0;36mcreateData\u001b[1;34m(env, n_states, discrete, one_hot)\u001b[0m\n\u001b[0;32m      9\u001b[0m     \u001b[1;32mfor\u001b[0m \u001b[0mi\u001b[0m \u001b[1;32min\u001b[0m \u001b[0mrange\u001b[0m\u001b[1;33m(\u001b[0m\u001b[0mlen\u001b[0m\u001b[1;33m(\u001b[0m\u001b[0mX\u001b[0m\u001b[1;33m)\u001b[0m\u001b[1;33m)\u001b[0m\u001b[1;33m:\u001b[0m\u001b[1;33m\u001b[0m\u001b[1;33m\u001b[0m\u001b[0m\n\u001b[0;32m     10\u001b[0m         \u001b[0mpos\u001b[0m\u001b[1;33m,\u001b[0m \u001b[0mvel\u001b[0m \u001b[1;33m=\u001b[0m \u001b[0mdiscretization\u001b[0m\u001b[1;33m(\u001b[0m\u001b[0menv\u001b[0m\u001b[1;33m,\u001b[0m \u001b[0mX\u001b[0m\u001b[1;33m[\u001b[0m\u001b[0mi\u001b[0m\u001b[1;33m,\u001b[0m\u001b[1;33m:\u001b[0m\u001b[1;36m2\u001b[0m\u001b[1;33m]\u001b[0m\u001b[1;33m)\u001b[0m\u001b[1;33m\u001b[0m\u001b[1;33m\u001b[0m\u001b[0m\n\u001b[1;32m---> 11\u001b[1;33m         \u001b[0mvals\u001b[0m \u001b[1;33m=\u001b[0m \u001b[0mq_table\u001b[0m\u001b[1;33m[\u001b[0m\u001b[0mpos\u001b[0m\u001b[1;33m]\u001b[0m\u001b[1;33m[\u001b[0m\u001b[0mvel\u001b[0m\u001b[1;33m]\u001b[0m\u001b[1;33m[\u001b[0m\u001b[0mint\u001b[0m\u001b[1;33m(\u001b[0m\u001b[0mX\u001b[0m\u001b[1;33m[\u001b[0m\u001b[0mi\u001b[0m\u001b[1;33m,\u001b[0m\u001b[1;36m2\u001b[0m\u001b[1;33m]\u001b[0m\u001b[1;33m)\u001b[0m\u001b[1;33m]\u001b[0m\u001b[1;33m\u001b[0m\u001b[1;33m\u001b[0m\u001b[0m\n\u001b[0m\u001b[0;32m     12\u001b[0m         \u001b[1;32mif\u001b[0m \u001b[0mdiscrete\u001b[0m\u001b[1;33m:\u001b[0m\u001b[1;33m\u001b[0m\u001b[1;33m\u001b[0m\u001b[0m\n\u001b[0;32m     13\u001b[0m             \u001b[0mX\u001b[0m\u001b[1;33m[\u001b[0m\u001b[0mi\u001b[0m\u001b[1;33m,\u001b[0m\u001b[1;33m:\u001b[0m\u001b[1;36m2\u001b[0m\u001b[1;33m]\u001b[0m \u001b[1;33m=\u001b[0m \u001b[0mnp\u001b[0m\u001b[1;33m.\u001b[0m\u001b[0marray\u001b[0m\u001b[1;33m(\u001b[0m\u001b[1;33m[\u001b[0m\u001b[0mpos\u001b[0m\u001b[1;33m,\u001b[0m \u001b[0mvel\u001b[0m\u001b[1;33m]\u001b[0m\u001b[1;33m)\u001b[0m\u001b[1;33m\u001b[0m\u001b[1;33m\u001b[0m\u001b[0m\n",
      "\u001b[1;31mNameError\u001b[0m: name 'q_table' is not defined"
     ]
    }
   ],
   "source": [
    "X_cont, _ = createData(env, discrete=False, one_hot=True)"
   ]
  },
  {
   "cell_type": "code",
   "execution_count": 26,
   "id": "olympic-touch",
   "metadata": {
    "ExecuteTime": {
     "end_time": "2021-05-17T13:39:41.173912Z",
     "start_time": "2021-05-17T13:39:39.733763Z"
    },
    "hidden": true
   },
   "outputs": [],
   "source": [
    "kmeans_100_cont, sig_cont = rbfValueFuncApprox(X_cont, y=None, J = 100)"
   ]
  },
  {
   "cell_type": "code",
   "execution_count": 27,
   "id": "administrative-hampshire",
   "metadata": {
    "ExecuteTime": {
     "end_time": "2021-05-17T13:39:49.662000Z",
     "start_time": "2021-05-17T13:39:41.178900Z"
    },
    "hidden": true
   },
   "outputs": [],
   "source": [
    "kmeans_1000_cont, sig_cont = rbfValueFuncApprox(X_cont, y=None, J = 1000)"
   ]
  },
  {
   "cell_type": "markdown",
   "id": "internal-crystal",
   "metadata": {
    "hidden": true
   },
   "source": [
    "### SARSA/Q-Learning"
   ]
  },
  {
   "cell_type": "markdown",
   "id": "chemical-cylinder",
   "metadata": {
    "hidden": true
   },
   "source": [
    "Use `greedy = False` as an $\\epsilon$-greedy policy is used"
   ]
  },
  {
   "cell_type": "code",
   "execution_count": 28,
   "id": "unknown-cache",
   "metadata": {
    "ExecuteTime": {
     "end_time": "2021-05-17T13:47:12.279421Z",
     "start_time": "2021-05-17T13:39:49.664992Z"
    },
    "hidden": true,
    "scrolled": false
   },
   "outputs": [
    {
     "data": {
      "application/vnd.jupyter.widget-view+json": {
       "model_id": "42fe8e8809224432ac192cc2a2e57690",
       "version_major": 2,
       "version_minor": 0
      },
      "text/plain": [
       "  0%|          | 0/5000 [00:00<?, ?it/s]"
      ]
     },
     "metadata": {},
     "output_type": "display_data"
    }
   ],
   "source": [
    "ren = False\n",
    "w_sarsa, episode_steps_sarsa = runHillClimb_rbf_SARSA_Q(env, 5000, kmeans_100_cont, sig_cont, render = ren, Q_learning = False)\n",
    "if ren:\n",
    "    time.sleep(1)\n",
    "    env.close()"
   ]
  },
  {
   "cell_type": "code",
   "execution_count": 29,
   "id": "lasting-nudist",
   "metadata": {
    "ExecuteTime": {
     "end_time": "2021-05-17T13:50:48.311250Z",
     "start_time": "2021-05-17T13:47:12.281419Z"
    },
    "hidden": true
   },
   "outputs": [
    {
     "data": {
      "application/vnd.jupyter.widget-view+json": {
       "model_id": "d064186eadc040d998e1bc6803641bb8",
       "version_major": 2,
       "version_minor": 0
      },
      "text/plain": [
       "  0%|          | 0/5000 [00:00<?, ?it/s]"
      ]
     },
     "metadata": {},
     "output_type": "display_data"
    }
   ],
   "source": [
    "ren = False\n",
    "w_Q, episode_steps_Q = runHillClimb_rbf_SARSA_Q(env, 5000, kmeans_100_cont, sig_cont, render = ren, Q_learning = True)\n",
    "if ren:\n",
    "    time.sleep(1)\n",
    "    env.close()"
   ]
  },
  {
   "cell_type": "markdown",
   "id": "analyzed-priority",
   "metadata": {
    "hidden": true
   },
   "source": [
    "### Visualising the results"
   ]
  },
  {
   "cell_type": "code",
   "execution_count": 30,
   "id": "accredited-oregon",
   "metadata": {
    "ExecuteTime": {
     "end_time": "2021-05-17T13:50:48.544787Z",
     "start_time": "2021-05-17T13:50:48.312405Z"
    },
    "hidden": true
   },
   "outputs": [
    {
     "data": {
      "text/plain": [
       "<matplotlib.legend.Legend at 0x19a813aeaf0>"
      ]
     },
     "execution_count": 30,
     "metadata": {},
     "output_type": "execute_result"
    },
    {
     "data": {
      "image/png": "[encoded data removed]",
      "text/plain": [
       "<Figure size 432x288 with 1 Axes>"
      ]
     },
     "metadata": {},
     "output_type": "display_data"
    }
   ],
   "source": [
    "num_rolling = 50\n",
    "m_avg_offline = moving_average(np.array(ep_steps), num_rolling)\n",
    "m_avg_sarsa = moving_average(np.array(episode_steps_sarsa), num_rolling)\n",
    "m_avg_tab = moving_average(np.array(ep_steps_tabular), num_rolling)\n",
    "m_avg_q = moving_average(np.array(episode_steps_Q), num_rolling)\n",
    "plt.plot(m_avg_sarsa, label = 'Online Learning (SARSA)')\n",
    "plt.plot(m_avg_q, label = 'Online Learning (Q-Learning)')\n",
    "plt.plot(m_avg_tab, label = 'Tabular method')\n",
    "plt.plot(m_avg_offline, label = 'Offline learning from Q-table')\n",
    "plt.xlabel('Episode')\n",
    "plt.ylabel(f'rolling average num steps ({num_rolling} episodes)')\n",
    "plt.legend()\n",
    "# plt.savefig('SARSA_Offline_steps.pdf')"
   ]
  },
  {
   "cell_type": "code",
   "execution_count": null,
   "id": "virgin-layout",
   "metadata": {
    "hidden": true
   },
   "outputs": [],
   "source": []
  }
 ],
 "metadata": {
  "kernelspec": {
   "display_name": "Python 3",
   "language": "python",
   "name": "python3"
  },
  "language_info": {
   "codemirror_mode": {
    "name": "ipython",
    "version": 3
   },
   "file_extension": ".py",
   "mimetype": "text/x-python",
   "name": "python",
   "nbconvert_exporter": "python",
   "pygments_lexer": "ipython3",
   "version": "3.8.8"
  }
 },
 "nbformat": 4,
 "nbformat_minor": 5
}
