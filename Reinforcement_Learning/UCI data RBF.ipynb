{
 "cells": [
  {
   "cell_type": "markdown",
   "id": "dietary-alberta",
   "metadata": {},
   "source": [
    "# Imports"
   ]
  },
  {
   "cell_type": "code",
   "execution_count": 1,
   "id": "mineral-metabolism",
   "metadata": {
    "ExecuteTime": {
     "end_time": "2021-05-17T13:35:51.063504Z",
     "start_time": "2021-05-17T13:35:49.608387Z"
    }
   },
   "outputs": [],
   "source": [
    "import numpy as np\n",
    "import matplotlib.pyplot as plt\n",
    "import pandas as pd\n",
    "from sklearn.preprocessing import MinMaxScaler\n",
    "import seaborn as sns"
   ]
  },
  {
   "cell_type": "code",
   "execution_count": 2,
   "id": "modified-astrology",
   "metadata": {
    "ExecuteTime": {
     "end_time": "2021-05-17T13:35:51.078467Z",
     "start_time": "2021-05-17T13:35:51.066496Z"
    }
   },
   "outputs": [],
   "source": [
    "sns.set_style('whitegrid')"
   ]
  },
  {
   "cell_type": "markdown",
   "id": "interesting-watts",
   "metadata": {},
   "source": [
    "# Read in data"
   ]
  },
  {
   "cell_type": "code",
   "execution_count": 3,
   "id": "promising-musician",
   "metadata": {
    "ExecuteTime": {
     "end_time": "2021-05-17T13:35:51.109381Z",
     "start_time": "2021-05-17T13:35:51.080459Z"
    }
   },
   "outputs": [
    {
     "name": "stdout",
     "output_type": "stream",
     "text": [
      "(122, 9) (122,)\n"
     ]
    }
   ],
   "source": [
    "rawData = pd.read_csv('Algerian_forest_fires_dataset_UPDATE.csv')\n",
    "N, pp1 = rawData.shape\n",
    "\n",
    "X = np.array(rawData.iloc[:,:-2])\n",
    "y = np.array(rawData.iloc[:,-2])\n",
    "print(X.shape, y.shape)"
   ]
  },
  {
   "cell_type": "code",
   "execution_count": 4,
   "id": "treated-kernel",
   "metadata": {
    "ExecuteTime": {
     "end_time": "2021-05-17T13:35:51.298192Z",
     "start_time": "2021-05-17T13:35:51.111377Z"
    }
   },
   "outputs": [
    {
     "data": {
      "text/plain": [
       "[<matplotlib.lines.Line2D at 0x24d01088fa0>]"
      ]
     },
     "execution_count": 4,
     "metadata": {},
     "output_type": "execute_result"
    },
    {
     "data": {
      "image/png": "[encoded data removed]",
      "text/plain": [
       "<Figure size 432x288 with 1 Axes>"
      ]
     },
     "metadata": {},
     "output_type": "display_data"
    }
   ],
   "source": [
    "w = (np.linalg.inv(X.T @ X)) @ X.T @ y\n",
    "yh_lin = X @ w\n",
    "plt.plot(y, yh_lin, '.', color='magenta')"
   ]
  },
  {
   "cell_type": "markdown",
   "id": "noted-vehicle",
   "metadata": {},
   "source": [
    "# RBF model and plot"
   ]
  },
  {
   "cell_type": "code",
   "execution_count": 5,
   "id": "fuzzy-albany",
   "metadata": {
    "ExecuteTime": {
     "end_time": "2021-05-17T13:35:51.655944Z",
     "start_time": "2021-05-17T13:35:51.299872Z"
    }
   },
   "outputs": [
    {
     "data": {
      "text/plain": [
       "[<matplotlib.lines.Line2D at 0x24d016986a0>]"
      ]
     },
     "execution_count": 5,
     "metadata": {},
     "output_type": "execute_result"
    },
    {
     "data": {
      "image/png": "[encoded data removed]",
      "text/plain": [
       "<Figure size 432x288 with 1 Axes>"
      ]
     },
     "metadata": {},
     "output_type": "display_data"
    }
   ],
   "source": [
    "# J = 20basis functions obtained by k-means clustering\n",
    "# sigma set to standard deviation of entire data\n",
    "\n",
    "from sklearn.cluster import KMeans\n",
    "J = 20\n",
    "kmeans = KMeans(n_clusters=J, random_state=0).fit(X)\n",
    "sig = np.std(X)\n",
    "\n",
    "# Construct design matrix\n",
    "U = np.zeros((N,J))\n",
    "for i in range(N):\n",
    "    for j in range(J):\n",
    "        U[i][j] = np.exp(-np.linalg.norm(X[i] - kmeans.cluster_centers_[j])/sig)\n",
    "        \n",
    "# Solve RBF model, predict and plot\n",
    "w = np.dot((np.linalg.inv(np.dot(U.T,U))), U.T) @ y\n",
    "yh_rbf = np.dot(U,w)\n",
    "plt.plot(y, yh_rbf, '.', color='cyan')"
   ]
  },
  {
   "cell_type": "code",
   "execution_count": 6,
   "id": "directed-primary",
   "metadata": {
    "ExecuteTime": {
     "end_time": "2021-05-17T13:35:51.671876Z",
     "start_time": "2021-05-17T13:35:51.657915Z"
    }
   },
   "outputs": [
    {
     "name": "stdout",
     "output_type": "stream",
     "text": [
      "5.697890874095499 19.14182866445834\n"
     ]
    }
   ],
   "source": [
    "print(np.linalg.norm(y-yh_lin), np.linalg.norm(y-yh_rbf))"
   ]
  },
  {
   "cell_type": "markdown",
   "id": "black-sport",
   "metadata": {},
   "source": [
    "# Solving by SGD"
   ]
  },
  {
   "cell_type": "code",
   "execution_count": 7,
   "id": "applicable-negotiation",
   "metadata": {
    "ExecuteTime": {
     "end_time": "2021-05-17T13:35:51.686871Z",
     "start_time": "2021-05-17T13:35:51.673871Z"
    }
   },
   "outputs": [],
   "source": [
    "def predict(x, w):\n",
    "    pred = np.dot(x,w)\n",
    "    return pred\n",
    "\n",
    "def error(y_true, yh):\n",
    "    return yh - y_true\n",
    "\n",
    "def update(w, x, lr, error):\n",
    "    w -= lr * error * x\n",
    "    return w\n",
    "\n",
    "def fullError(X,y,w):\n",
    "    yh = X @ w\n",
    "    return np.linalg.norm(y-yh)"
   ]
  },
  {
   "cell_type": "code",
   "execution_count": 8,
   "id": "ultimate-accuracy",
   "metadata": {
    "ExecuteTime": {
     "end_time": "2021-05-17T13:35:51.875333Z",
     "start_time": "2021-05-17T13:35:51.687835Z"
    }
   },
   "outputs": [],
   "source": [
    "# np.random.seed(102)\n",
    "def SGD(X, y, lr = 0.1):\n",
    "    p = X.shape[1]\n",
    "    errors = list()\n",
    "    w = np.random.randn(p)\n",
    "    \n",
    "    for i in range(100):\n",
    "        for x, y_true in zip(X,y):\n",
    "            yh = predict(x, w)\n",
    "            err = error(y_true, yh)\n",
    "            w = update(w, x, lr, err)\n",
    "        \n",
    "            errors.append(fullError(X,y,w))\n",
    "        if i % 20 == 0:\n",
    "            lr /= 2\n",
    "    return w, errors\n",
    "        \n",
    "w_,s= SGD(U, y)        "
   ]
  },
  {
   "cell_type": "code",
   "execution_count": 9,
   "id": "lyric-finding",
   "metadata": {
    "ExecuteTime": {
     "end_time": "2021-05-17T13:35:52.061834Z",
     "start_time": "2021-05-17T13:35:51.877327Z"
    }
   },
   "outputs": [
    {
     "data": {
      "text/plain": [
       "Text(0.5, 1.0, 'Final solution of RBF regression using SGD')"
      ]
     },
     "execution_count": 9,
     "metadata": {},
     "output_type": "execute_result"
    },
    {
     "data": {
      "image/png": "[encoded data removed]",
      "text/plain": [
       "<Figure size 432x288 with 1 Axes>"
      ]
     },
     "metadata": {},
     "output_type": "display_data"
    }
   ],
   "source": [
    "# U @ w_\n",
    "plt.plot(y, U @ w_, '.', color='magenta')\n",
    "plt.plot([0,30], [0,30])\n",
    "# plt.ylim((0,30))\n",
    "plt.xlabel('True Target')\n",
    "plt.ylabel('Predicted Target')\n",
    "plt.title('Final solution of RBF regression using SGD')\n",
    "# plt.savefig('true_vs_pred.pdf')"
   ]
  },
  {
   "cell_type": "code",
   "execution_count": 10,
   "id": "moderate-sentence",
   "metadata": {
    "ExecuteTime": {
     "end_time": "2021-05-17T13:35:52.250286Z",
     "start_time": "2021-05-17T13:35:52.062831Z"
    }
   },
   "outputs": [
    {
     "data": {
      "text/plain": [
       "Text(0.5, 1.0, 'Error plot of SGD for RBF model')"
      ]
     },
     "execution_count": 10,
     "metadata": {},
     "output_type": "execute_result"
    },
    {
     "data": {
      "image/png": "[encoded data removed]",
      "text/plain": [
       "<Figure size 432x288 with 1 Axes>"
      ]
     },
     "metadata": {},
     "output_type": "display_data"
    }
   ],
   "source": [
    "ints = np.linspace(0,100,len(s))\n",
    "plt.plot(ints,s)\n",
    "plt.xlabel('Epoch')\n",
    "plt.ylabel('Error')\n",
    "plt.title('Error plot of SGD for RBF model')\n",
    "# plt.savefig('error_plot.pdf')"
   ]
  },
  {
   "cell_type": "code",
   "execution_count": null,
   "id": "increased-spelling",
   "metadata": {},
   "outputs": [],
   "source": []
  }
 ],
 "metadata": {
  "kernelspec": {
   "display_name": "Python 3",
   "language": "python",
   "name": "python3"
  },
  "language_info": {
   "codemirror_mode": {
    "name": "ipython",
    "version": 3
   },
   "file_extension": ".py",
   "mimetype": "text/x-python",
   "name": "python",
   "nbconvert_exporter": "python",
   "pygments_lexer": "ipython3",
   "version": "3.8.8"
  }
 },
 "nbformat": 4,
 "nbformat_minor": 5
}
